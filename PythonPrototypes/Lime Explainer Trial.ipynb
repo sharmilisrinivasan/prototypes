{
 "cells": [
  {
   "cell_type": "code",
   "execution_count": 1,
   "metadata": {},
   "outputs": [],
   "source": [
    "from matplotlib import pyplot as plt"
   ]
  },
  {
   "cell_type": "code",
   "execution_count": 2,
   "metadata": {},
   "outputs": [],
   "source": [
    "class Utilities:\n",
    "    def __init__(self, model, train, test):\n",
    "        self.model = model  # Model taken from user here\n",
    "        self.train = train\n",
    "        self.test = test\n",
    "    def batch_predict(self, values):\n",
    "        return self.model.predict(values)  # Your predict logic goes here\n",
    "    def show_explanation(self, justifier):\n",
    "        justifier.as_pyplot_figure()\n",
    "        plt.tight_layout()"
   ]
  },
  {
   "cell_type": "code",
   "execution_count": 3,
   "metadata": {},
   "outputs": [],
   "source": [
    "from lime.lime_tabular import LimeTabularExplainer\n",
    "class SampleAlgorithms(Utilities): \n",
    "    def __init__(self, model, train, test):\n",
    "        super(SampleAlgorithms, self).__init__(model, train, test)\n",
    "        \n",
    "    def custom_lime_image(self):\n",
    "        explainer = LimeTabularExplainer(self.train, mode='regression')  # Use lime_image instead\n",
    "        explanation = explainer.explain_instance(self.test[25],\n",
    "                                                 self.batch_predict,  # Here we call batch_predict\n",
    "                                                 num_features=10)  \n",
    "        self.show_explanation(explanation)"
   ]
  },
  {
   "cell_type": "code",
   "execution_count": 4,
   "metadata": {},
   "outputs": [],
   "source": [
    "# Trial"
   ]
  },
  {
   "cell_type": "code",
   "execution_count": 5,
   "metadata": {},
   "outputs": [
    {
     "data": {
      "text/plain": [
       "RandomForestRegressor(bootstrap=True, ccp_alpha=0.0, criterion='mse',\n",
       "                      max_depth=None, max_features='auto', max_leaf_nodes=None,\n",
       "                      max_samples=None, min_impurity_decrease=0.0,\n",
       "                      min_impurity_split=None, min_samples_leaf=1,\n",
       "                      min_samples_split=2, min_weight_fraction_leaf=0.0,\n",
       "                      n_estimators=100, n_jobs=None, oob_score=False,\n",
       "                      random_state=None, verbose=0, warm_start=False)"
      ]
     },
     "execution_count": 5,
     "metadata": {},
     "output_type": "execute_result"
    }
   ],
   "source": [
    "from sklearn import datasets, ensemble, model_selection\n",
    "boston = datasets.load_boston()\n",
    "X_train, X_test, y_train, y_test = model_selection.train_test_split(\n",
    "    boston.data, boston.target)\n",
    "regressor = ensemble.RandomForestRegressor()\n",
    "regressor.fit(X_train, y_train)"
   ]
  },
  {
   "cell_type": "code",
   "execution_count": 6,
   "metadata": {},
   "outputs": [
    {
     "data": {
      "image/png": "[encoded data removed]",
      "text/plain": [
       "<Figure size 432x288 with 1 Axes>"
      ]
     },
     "metadata": {
      "needs_background": "light"
     },
     "output_type": "display_data"
    }
   ],
   "source": [
    "SampleAlgorithms(regressor, X_train, X_test).custom_lime_image()"
   ]
  },
  {
   "cell_type": "code",
   "execution_count": null,
   "metadata": {},
   "outputs": [],
   "source": []
  }
 ],
 "metadata": {
  "kernelspec": {
   "display_name": "Python 3",
   "language": "python",
   "name": "python3"
  },
  "language_info": {
   "codemirror_mode": {
    "name": "ipython",
    "version": 3
   },
   "file_extension": ".py",
   "mimetype": "text/x-python",
   "name": "python",
   "nbconvert_exporter": "python",
   "pygments_lexer": "ipython3",
   "version": "3.7.3"
  }
 },
 "nbformat": 4,
 "nbformat_minor": 2
}

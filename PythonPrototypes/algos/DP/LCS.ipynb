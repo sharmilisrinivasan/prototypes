{
 "cells": [
  {
   "cell_type": "code",
   "execution_count": 12,
   "metadata": {},
   "outputs": [],
   "source": [
    "# LCS\n",
    "x = \"abcde\"\n",
    "y = \"ace\"\n",
    "n = len(x)\n",
    "m = len(y)"
   ]
  },
  {
   "cell_type": "code",
   "execution_count": 11,
   "metadata": {},
   "outputs": [
    {
     "name": "stdout",
     "output_type": "stream",
     "text": [
      "0\n"
     ]
    }
   ],
   "source": [
    "def LCS(x,y,n,m):\n",
    "    if n==0 or m==0:\n",
    "        return 0\n",
    "    if x[n-1]==y[m-1]:\n",
    "        return 1+LCS(x, y, n-1, m-1)\n",
    "    else:\n",
    "        return max(LCS(x,y,n,m-1), LCS(x,y,n-1,m))\n",
    "\n",
    "print(LCS(x,y,n,m))\n",
    "    "
   ]
  },
  {
   "cell_type": "code",
   "execution_count": 22,
   "metadata": {},
   "outputs": [
    {
     "name": "stdout",
     "output_type": "stream",
     "text": [
      "5\n"
     ]
    }
   ],
   "source": [
    "# memiozation\n",
    "\n",
    "\n",
    "x = \"abcdemf\"\n",
    "y = \"acemfm\"\n",
    "n = len(x)\n",
    "m = len(y)\n",
    "\n",
    "dp = [[-1 for j in range(m+1)] for i in range(n+1)]\n",
    "\n",
    "def LCS(x,y,n,m):\n",
    "    if n==0 or m==0:\n",
    "        return 0\n",
    "    if dp[n][m]!=-1:\n",
    "        return dp[n][m]\n",
    "    \n",
    "    if x[n-1]==y[m-1]:\n",
    "        dp[n][m] = 1+LCS(x, y, n-1, m-1)\n",
    "        return dp[n][m]\n",
    "    else:\n",
    "        dp[n][m] = max(LCS(x,y,n,m-1), LCS(x,y,n-1,m))\n",
    "        return dp[n][m]\n",
    "    \n",
    "    \"\"\"\n",
    "    if x[n-1]==y[m-1]:\n",
    "        if dp[n-1][m-1]==-1:\n",
    "            dp[n-1][m-1] = LCS(x, y, n-1, m-1)\n",
    "        return 1+dp[n-1][m-1]\n",
    "    else:\n",
    "        if dp[n][m-1]==-1:\n",
    "            dp[n][m-1] = LCS(x,y,n,m-1)\n",
    "        if dp[n-1][m] == -1:\n",
    "            dp[n-1][m] = LCS(x,y,n-1,m)\n",
    "        return max(dp[n][m-1], dp[n-1][m])\n",
    "    \"\"\"\n",
    "\n",
    "print(LCS(x,y,n,m))"
   ]
  },
  {
   "cell_type": "code",
   "execution_count": 27,
   "metadata": {},
   "outputs": [
    {
     "name": "stdout",
     "output_type": "stream",
     "text": [
      "3\n",
      "[0, 0, 0, 0]\n",
      "[0, 1, 1, 1]\n",
      "[0, 1, 1, 1]\n",
      "[0, 1, 2, 2]\n",
      "[0, 1, 2, 2]\n",
      "[0, 1, 2, 3]\n",
      "ace\n"
     ]
    }
   ],
   "source": [
    "# Top Down apporach\n",
    "x = \"abcde\"\n",
    "y = \"ace\"\n",
    "n = len(x)\n",
    "m = len(y)\n",
    "\n",
    "dp = [[-1 for j in range(m+1)] for i in range(n+1)]\n",
    "\n",
    "for i in range(n+1):\n",
    "    dp[i][0]=0\n",
    "for j in range(m+1):\n",
    "    dp[0][j]=0\n",
    "    \n",
    "for i in range(1, n+1):\n",
    "    for j in range(1, m+1):\n",
    "        if x[i-1]==y[j-1]:\n",
    "            dp[i][j]=1+dp[i-1][j-1]\n",
    "        else:\n",
    "            dp[i][j]=max(dp[i-1][j], dp[i][j-1])\n",
    "print(dp[n][m])\n",
    "\n",
    "for i in range(n+1):\n",
    "    print(dp[i])\n",
    "    \n",
    "i = n\n",
    "j = m\n",
    "output_str = \"\"\n",
    "while i>0 and j>0:\n",
    "    if x[i-1]==y[j-1]:\n",
    "        output_str=output_str+x[i-1]\n",
    "        i=i-1\n",
    "        j=j-1\n",
    "    else:\n",
    "        if dp[i-1][j] > dp[i][j-1]:\n",
    "            i=i-1\n",
    "        else:\n",
    "            j=j-1\n",
    "print(output_str[::-1])"
   ]
  },
  {
   "cell_type": "code",
   "execution_count": 37,
   "metadata": {},
   "outputs": [
    {
     "name": "stdout",
     "output_type": "stream",
     "text": [
      "5\n",
      "[0, 0, 0, 0, 0, 0, 0, 0, 0, 0, 0]\n",
      "[0, 0, 0, 0, 1, 0, 1, 0, 1, 0, 1]\n",
      "[0, 0, 0, 0, 0, 0, 0, 0, 0, 2, 0]\n",
      "[0, 0, 0, 0, 1, 0, 1, 0, 1, 0, 3]\n",
      "[0, 0, 0, 1, 0, 0, 0, 2, 0, 0, 0]\n",
      "[0, 0, 0, 0, 2, 0, 1, 0, 3, 0, 1]\n",
      "[0, 0, 0, 0, 0, 3, 0, 0, 0, 0, 0]\n",
      "[0, 0, 0, 0, 1, 0, 4, 0, 1, 0, 1]\n",
      "[0, 0, 0, 1, 0, 0, 0, 5, 0, 0, 0]\n",
      "[0, 0, 1, 0, 0, 0, 0, 0, 0, 0, 0]\n",
      "[0, 1, 0, 0, 0, 0, 0, 0, 0, 0, 0]\n"
     ]
    }
   ],
   "source": [
    "# Top Down apporach for substring\n",
    "x = \"acdefg\"\n",
    "y = \"acefg\"\n",
    "\n",
    "x = \"abamadamcg\"\n",
    "y = x[::-1]\n",
    "n = len(x)\n",
    "m = len(y)\n",
    "\n",
    "dp = [[-1 for j in range(m+1)] for i in range(n+1)]\n",
    "\n",
    "for i in range(n+1):\n",
    "    dp[i][0]=0\n",
    "for j in range(m+1):\n",
    "    dp[0][j]=0\n",
    "    \n",
    "max_val = -1\n",
    "for i in range(1, n+1):\n",
    "    for j in range(1, m+1):\n",
    "        if x[i-1]==y[j-1]:\n",
    "            dp[i][j]=1+dp[i-1][j-1]\n",
    "            if dp[i][j]>max_val:\n",
    "                max_val=dp[i][j]\n",
    "        else:\n",
    "            dp[i][j]=0\n",
    "print(max_val)\n",
    "for i in range(n+1):\n",
    "    print(dp[i])\n",
    "    "
   ]
  },
  {
   "cell_type": "code",
   "execution_count": null,
   "metadata": {},
   "outputs": [],
   "source": []
  },
  {
   "cell_type": "code",
   "execution_count": 36,
   "metadata": {
    "scrolled": true
   },
   "outputs": [
    {
     "name": "stdout",
     "output_type": "stream",
     "text": [
      "5\n",
      "[0, 0, 0, 0, 0, 0, 0, 0, 0, 0, 0]\n",
      "[0, 0, 0, 0, 1, 1, 1, 1, 1, 1, 1]\n",
      "[0, 0, 0, 0, 1, 1, 1, 1, 1, 2, 2]\n",
      "[0, 0, 0, 0, 1, 1, 2, 2, 2, 2, 3]\n",
      "[0, 0, 0, 1, 1, 1, 2, 3, 3, 3, 3]\n",
      "[0, 0, 0, 1, 2, 2, 2, 3, 4, 4, 4]\n",
      "[0, 0, 0, 1, 2, 3, 3, 3, 4, 4, 4]\n",
      "[0, 0, 0, 1, 2, 3, 4, 4, 4, 4, 5]\n",
      "[0, 0, 0, 1, 2, 3, 4, 5, 5, 5, 5]\n",
      "[0, 0, 1, 1, 2, 3, 4, 5, 5, 5, 5]\n",
      "[0, 1, 1, 1, 2, 3, 4, 5, 5, 5, 5]\n",
      "madam\n"
     ]
    }
   ],
   "source": [
    "# Find a longest palindrome subsequnce in a given string\n",
    "x = \"abamadamcg\"\n",
    "y = x[::-1]\n",
    "output = \"madam\"\n",
    "\n",
    "\n",
    "n = len(x)\n",
    "m = len(y)\n",
    "\n",
    "dp = [[-1 for j in range(m+1)] for i in range(n+1)]\n",
    "\n",
    "for i in range(n+1):\n",
    "    dp[i][0]=0\n",
    "for j in range(m+1):\n",
    "    dp[0][j]=0\n",
    "    \n",
    "for i in range(1, n+1):\n",
    "    for j in range(1, m+1):\n",
    "        if x[i-1]==y[j-1]:\n",
    "            dp[i][j]=1+dp[i-1][j-1]\n",
    "        else:\n",
    "            dp[i][j]=max(dp[i-1][j], dp[i][j-1])\n",
    "print(dp[n][m])\n",
    "\n",
    "for i in range(n+1):\n",
    "    print(dp[i])\n",
    "    \n",
    "i = n\n",
    "j = m\n",
    "output_str = \"\"\n",
    "while i>0 and j>0:\n",
    "    if x[i-1]==y[j-1]:\n",
    "        output_str=output_str+x[i-1]\n",
    "        i=i-1\n",
    "        j=j-1\n",
    "    else:\n",
    "        if dp[i-1][j] > dp[i][j-1]:\n",
    "            i=i-1\n",
    "        else:\n",
    "            j=j-1\n",
    "print(output_str[::-1])"
   ]
  },
  {
   "cell_type": "code",
   "execution_count": 41,
   "metadata": {},
   "outputs": [
    {
     "name": "stdout",
     "output_type": "stream",
     "text": [
      "[0, 1, 2, 3]\n",
      "[1, 2, 2, 3]\n",
      "[2, 3, 3, 3]\n",
      "[3, 4, 4, 4]\n",
      "[4, 4, 5, 5]\n",
      "cabac\n"
     ]
    }
   ],
   "source": [
    "class Solution:\n",
    "    def shortestCommonSupersequence(self, str1: str, str2: str) -> str:\n",
    "        n = len(str1)\n",
    "        m = len(str2)\n",
    "        dp = [[-1 for j in range(m+1)] for i in range(n+1)]\n",
    "        for i in range(n+1):\n",
    "            dp[i][0]=i\n",
    "        for j in range(m+1):\n",
    "            dp[0][j]=j\n",
    "        for i in range(1, n+1):\n",
    "            for j in range(1, m+1):\n",
    "                if str1[i-1]==str2[j-1]:\n",
    "                    dp[i][j]=1+dp[i-1][j-1]\n",
    "                else:\n",
    "                    dp[i][j]= 1+min(dp[i][j-1], dp[i-1][j])\n",
    "                    \n",
    "        for i in range(n+1):\n",
    "            print(dp[i])\n",
    "        output_str = \"\"\n",
    "        i=n\n",
    "        j=m\n",
    "        while i>0 and j>0:\n",
    "            if str1[i-1]==str2[j-1]:\n",
    "                output_str=output_str+str1[i-1]\n",
    "                i=i-1\n",
    "                j=j-1\n",
    "            elif str1[i-1]!=str2[j-1] and dp[i-1][j] > dp[i][j-1]:\n",
    "                output_str=output_str+str2[j-1]\n",
    "                j=j-1\n",
    "            else:\n",
    "                output_str=output_str+str1[i-1]\n",
    "                i=i-1\n",
    "        while(i>0):\n",
    "            output_str=output_str+str1[i-1]\n",
    "            i=i-1\n",
    "        while(j>0):\n",
    "            output_str=output_str+str2[j-1]\n",
    "            j=j-1\n",
    "        return output_str[::-1]\n",
    "    \n",
    "x = \"abac\"\n",
    "y = \"cab\"\n",
    "print(Solution().shortestCommonSupersequence(x,y))"
   ]
  }
 ],
 "metadata": {
  "kernelspec": {
   "display_name": "Python 3",
   "language": "python",
   "name": "python3"
  },
  "language_info": {
   "codemirror_mode": {
    "name": "ipython",
    "version": 3
   },
   "file_extension": ".py",
   "mimetype": "text/x-python",
   "name": "python",
   "nbconvert_exporter": "python",
   "pygments_lexer": "ipython3",
   "version": "3.7.3"
  }
 },
 "nbformat": 4,
 "nbformat_minor": 4
}

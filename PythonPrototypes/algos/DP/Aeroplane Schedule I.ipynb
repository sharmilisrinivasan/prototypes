{
 "cells": [
  {
   "cell_type": "code",
   "execution_count": null,
   "metadata": {},
   "outputs": [],
   "source": [
    "# backtracking"
   ]
  },
  {
   "cell_type": "code",
   "execution_count": 5,
   "metadata": {},
   "outputs": [],
   "source": [
    "def happy(lst):\n",
    "    to_return = 0\n",
    "    current_min = (10**9+1) # Given max val of Si = 10**9\n",
    "    for val in lst:\n",
    "        if val< current_min:\n",
    "            to_return+=1\n",
    "            current_min = val\n",
    "    return to_return"
   ]
  },
  {
   "cell_type": "code",
   "execution_count": 6,
   "metadata": {},
   "outputs": [],
   "source": [
    "def schedule(a_lst, lst_1, lst_2):\n",
    "    if not lst_1:\n",
    "        lst_1 = []\n",
    "    if not lst_2:\n",
    "        lst_2 = []\n",
    "    if not a_lst:\n",
    "        return happy(lst_1)+happy(lst_2)\n",
    "    return max(schedule(a_lst[1:],lst_1+[a_lst[0]],lst_2),\n",
    "               schedule(a_lst[1:],lst_1,lst_2+[a_lst[0]]))"
   ]
  },
  {
   "cell_type": "code",
   "execution_count": 7,
   "metadata": {},
   "outputs": [
    {
     "data": {
      "text/plain": [
       "4"
      ]
     },
     "execution_count": 7,
     "metadata": {},
     "output_type": "execute_result"
    }
   ],
   "source": [
    "schedule([2,3,5,4,1,9], None, None)"
   ]
  },
  {
   "cell_type": "code",
   "execution_count": null,
   "metadata": {},
   "outputs": [],
   "source": [
    "# backtracking - II"
   ]
  },
  {
   "cell_type": "code",
   "execution_count": 24,
   "metadata": {},
   "outputs": [],
   "source": [
    "def schedule(a_lst, lst_1_min, lst_2_min,lst_1_val,lst_2_val):\n",
    "    if not lst_1_min:\n",
    "        lst_1_min = (10**9+1) # Given max val of Si = 10**9\n",
    "    if not lst_2_min:\n",
    "        lst_2_min = (10**9+1) # Given max val of Si = 10**9\n",
    "    if not a_lst:\n",
    "        return lst_1_val+lst_2_val\n",
    "    \n",
    "    # Adding to lst_1\n",
    "    if a_lst[0] <= lst_1_min:\n",
    "        val_1 = schedule(a_lst[1:],a_lst[0],lst_2_min,1+lst_1_val,lst_2_val)\n",
    "    else:\n",
    "        val_1 = schedule(a_lst[1:],lst_1_min,lst_2_min,lst_1_val,lst_2_val)\n",
    "        \n",
    "    # Adding to lst_2\n",
    "    if a_lst[0] <= lst_2_min:\n",
    "        val_2 = schedule(a_lst[1:],lst_1_min,a_lst[0],lst_1_val,1+lst_2_val)\n",
    "    else:\n",
    "        val_2 = schedule(a_lst[1:],lst_1_min,lst_2_min,lst_1_val,lst_2_val)\n",
    "        \n",
    "    return max(val_1, val_2)"
   ]
  },
  {
   "cell_type": "code",
   "execution_count": 25,
   "metadata": {},
   "outputs": [
    {
     "data": {
      "text/plain": [
       "4"
      ]
     },
     "execution_count": 25,
     "metadata": {},
     "output_type": "execute_result"
    }
   ],
   "source": [
    "schedule([2,3,5,4,1,9], None, None,0,0)"
   ]
  },
  {
   "cell_type": "code",
   "execution_count": 29,
   "metadata": {},
   "outputs": [
    {
     "data": {
      "text/plain": [
       "1"
      ]
     },
     "execution_count": 29,
     "metadata": {},
     "output_type": "execute_result"
    }
   ],
   "source": [
    "schedule(\n",
    "    [1,2, 2, 3],\n",
    "    None,None,0,0)"
   ]
  },
  {
   "cell_type": "code",
   "execution_count": 27,
   "metadata": {},
   "outputs": [],
   "source": [
    "# Memoization"
   ]
  },
  {
   "cell_type": "code",
   "execution_count": 30,
   "metadata": {},
   "outputs": [],
   "source": [
    "def schedule(a_lst, lst_1_min, lst_2_min,lst_1_val,lst_2_val):\n",
    "    if not a_lst:\n",
    "        return lst_1_val+lst_2_val\n",
    "    \n",
    "    if not a_lst:\n",
    "        return lst_1_val+lst_2_val\n",
    "    \n",
    "    if not lst_1_min:\n",
    "        lst_1_min = (10**9+1) # Given max val of Si = 10**9\n",
    "    if not lst_2_min:\n",
    "        lst_2_min = (10**9+1) # Given max val of Si = 10**9\n",
    "    \n",
    "    # Adding to lst_1\n",
    "    if a_lst[0] <= lst_1_min:\n",
    "        val_1 = schedule(a_lst[1:],a_lst[0],lst_2_min,1+lst_1_val,lst_2_val)\n",
    "    else:\n",
    "        val_1 = schedule(a_lst[1:],lst_1_min,lst_2_min,lst_1_val,lst_2_val)\n",
    "        \n",
    "    # Adding to lst_2\n",
    "    if a_lst[0] <= lst_2_min:\n",
    "        val_2 = schedule(a_lst[1:],lst_1_min,a_lst[0],lst_1_val,1+lst_2_val)\n",
    "    else:\n",
    "        val_2 = schedule(a_lst[1:],lst_1_min,lst_2_min,lst_1_val,lst_2_val)\n",
    "        \n",
    "    return max(val_1, val_2)"
   ]
  },
  {
   "cell_type": "code",
   "execution_count": null,
   "metadata": {},
   "outputs": [],
   "source": []
  }
 ],
 "metadata": {
  "kernelspec": {
   "display_name": "Python 3",
   "language": "python",
   "name": "python3"
  },
  "language_info": {
   "codemirror_mode": {
    "name": "ipython",
    "version": 3
   },
   "file_extension": ".py",
   "mimetype": "text/x-python",
   "name": "python",
   "nbconvert_exporter": "python",
   "pygments_lexer": "ipython3",
   "version": "3.7.3"
  }
 },
 "nbformat": 4,
 "nbformat_minor": 2
}

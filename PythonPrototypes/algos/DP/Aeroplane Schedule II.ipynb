{
 "cells": [
  {
   "cell_type": "code",
   "execution_count": null,
   "metadata": {},
   "outputs": [],
   "source": [
    "# recursion-1\n",
    "def happy(input_lst, min_l1, min_l2, happy_cnt):\n",
    "    if len(input_lst)==0:\n",
    "        return happy_cnt\n",
    "    val = input_lst[0]\n",
    "    # choice: Lane:1\n",
    "    if val <= min_l1:\n",
    "        choice_1 = happy(input_lst[1:], val ,min_l2,happy_cnt+1)\n",
    "    else:\n",
    "        choice_1 = happy(input_lst[1:], min_l1 ,min_l2,happy_cnt)\n",
    "    # choice: Lane:2\n",
    "    if val <= min_l2:\n",
    "        choice_2 = happy(input_lst[1:], min_l1 ,val,happy_cnt+1)\n",
    "    else:\n",
    "        choice_2 = happy(input_lst[1:], min_l1 ,min_l2,happy_cnt)\n",
    "    return max(choice_1, choice_2)"
   ]
  },
  {
   "cell_type": "code",
   "execution_count": null,
   "metadata": {},
   "outputs": [],
   "source": [
    "# recursion-2\n",
    "def happy(input_lst, min_l1, min_l2, curr_idx):\n",
    "    if curr_idx>=len(input_lst):\n",
    "        return 0\n",
    "    val = input_lst[curr_idx]\n",
    "    # choice: Lane:1\n",
    "    if val <= min_l1:\n",
    "        choice_1 = 1+ happy(input_lst, val, min_l2, curr_idx+1)\n",
    "    else:\n",
    "        choice_1 = happy(input_lst, min_l1 ,min_l2, curr_idx+1)\n",
    "    # choice: Lane:2\n",
    "    if val <= min_l2:\n",
    "        choice_2 = 1+ happy(input_lst, min_l1 ,val,curr_idx+1)\n",
    "    else:\n",
    "        choice_2 = happy(input_lst, min_l1 ,min_l2,curr_idx+1)\n",
    "    return max(choice_1, choice_2)"
   ]
  },
  {
   "cell_type": "code",
   "execution_count": 1,
   "metadata": {},
   "outputs": [],
   "source": [
    "# Memoisation\n",
    "def happy(input_lst, lst_len, min_l1, min_l2, curr_idx):\n",
    "    if curr_idx>=lst_len:\n",
    "        return 0\n",
    "    if f\"{curr_idx}_{min_l1}_{min_l2}\" in mem:\n",
    "        return mem[f\"{curr_idx}_{min_l1}_{min_l2}\"]\n",
    "    val = input_lst[curr_idx]\n",
    "    # choice: Lane:1\n",
    "    if val <= min_l1:\n",
    "        choice_1 = 1+ happy(input_lst, lst_len, val, min_l2, curr_idx+1)\n",
    "    else:\n",
    "        choice_1 = happy(input_lst, lst_len, min_l1 ,min_l2, curr_idx+1)\n",
    "    # choice: Lane:2\n",
    "    if val <= min_l2:\n",
    "        choice_2 = 1+ happy(input_lst, lst_len, min_l1 ,val,curr_idx+1)\n",
    "    else:\n",
    "        choice_2 = happy(input_lst, lst_len, min_l1 ,min_l2,curr_idx+1)\n",
    "    mem[f\"{curr_idx}_{min_l1}_{min_l2}\"] = max(choice_1, choice_2)\n",
    "    return mem[f\"{curr_idx}_{min_l1}_{min_l2}\"]"
   ]
  },
  {
   "cell_type": "code",
   "execution_count": 2,
   "metadata": {},
   "outputs": [],
   "source": [
    "n = 6\n",
    "in_str = \"2 3 5 4 1 9\""
   ]
  },
  {
   "cell_type": "code",
   "execution_count": 3,
   "metadata": {},
   "outputs": [],
   "source": [
    "a_lst = [int(x) for x in in_str.split()]"
   ]
  },
  {
   "cell_type": "code",
   "execution_count": 4,
   "metadata": {},
   "outputs": [
    {
     "data": {
      "text/plain": [
       "[2, 3, 5, 4, 1, 9]"
      ]
     },
     "execution_count": 4,
     "metadata": {},
     "output_type": "execute_result"
    }
   ],
   "source": [
    "a_lst"
   ]
  },
  {
   "cell_type": "code",
   "execution_count": 5,
   "metadata": {},
   "outputs": [
    {
     "data": {
      "text/plain": [
       "4"
      ]
     },
     "execution_count": 5,
     "metadata": {},
     "output_type": "execute_result"
    }
   ],
   "source": [
    "mem = {}\n",
    "happy(a_lst, n, (10**9+1), (10**9+1), 0)"
   ]
  },
  {
   "cell_type": "code",
   "execution_count": 6,
   "metadata": {},
   "outputs": [
    {
     "data": {
      "text/plain": [
       "{'5_1_1000000001': 1,\n",
       " '5_2_1': 0,\n",
       " '4_2_1000000001': 2,\n",
       " '5_1_4': 0,\n",
       " '4_2_4': 1,\n",
       " '3_2_1000000001': 2,\n",
       " '5_1_5': 0,\n",
       " '4_2_5': 1,\n",
       " '3_2_5': 2,\n",
       " '2_2_1000000001': 3,\n",
       " '5_1_3': 0,\n",
       " '4_2_3': 1,\n",
       " '3_2_3': 1,\n",
       " '2_2_3': 1,\n",
       " '1_2_1000000001': 3,\n",
       " '5_1_2': 0,\n",
       " '5_3_1': 0,\n",
       " '4_3_2': 1,\n",
       " '3_3_2': 1,\n",
       " '2_3_2': 1,\n",
       " '5_4_1': 0,\n",
       " '4_4_2': 1,\n",
       " '5_5_1': 0,\n",
       " '4_5_2': 1,\n",
       " '3_5_2': 2,\n",
       " '5_1000000001_1': 1,\n",
       " '4_1000000001_2': 2,\n",
       " '3_1000000001_2': 2,\n",
       " '2_1000000001_2': 3,\n",
       " '1_1000000001_2': 3,\n",
       " '0_1000000001_1000000001': 4}"
      ]
     },
     "execution_count": 6,
     "metadata": {},
     "output_type": "execute_result"
    }
   ],
   "source": [
    "mem"
   ]
  },
  {
   "cell_type": "code",
   "execution_count": null,
   "metadata": {},
   "outputs": [],
   "source": []
  }
 ],
 "metadata": {
  "kernelspec": {
   "display_name": "Python 3",
   "language": "python",
   "name": "python3"
  },
  "language_info": {
   "codemirror_mode": {
    "name": "ipython",
    "version": 3
   },
   "file_extension": ".py",
   "mimetype": "text/x-python",
   "name": "python",
   "nbconvert_exporter": "python",
   "pygments_lexer": "ipython3",
   "version": "3.7.3"
  }
 },
 "nbformat": 4,
 "nbformat_minor": 2
}

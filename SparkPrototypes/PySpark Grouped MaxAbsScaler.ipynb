{
 "cells": [
  {
   "cell_type": "markdown",
   "metadata": {},
   "source": [
    "### Spark related"
   ]
  },
  {
   "cell_type": "code",
   "execution_count": 1,
   "metadata": {},
   "outputs": [],
   "source": [
    "import findspark\n",
    "findspark.init(\"/Users/sharmilisrinivasan/spark-2.4.3-bin-hadoop2.7/\")"
   ]
  },
  {
   "cell_type": "code",
   "execution_count": 2,
   "metadata": {},
   "outputs": [],
   "source": [
    "from pyspark import SparkConf\n",
    "from pyspark.sql import SparkSession"
   ]
  },
  {
   "cell_type": "code",
   "execution_count": null,
   "metadata": {},
   "outputs": [],
   "source": [
    "spark = SparkSession \\\n",
    "    .builder \\\n",
    "    .master(\"spark://ip:7077\") \\\n",
    "    .appName(\"Exp\") \\\n",
    "    .getOrCreate()"
   ]
  },
  {
   "cell_type": "markdown",
   "metadata": {},
   "source": [
    "### Data"
   ]
  },
  {
   "cell_type": "code",
   "execution_count": 4,
   "metadata": {},
   "outputs": [],
   "source": [
    "from pyspark.sql import Row\n",
    "from pyspark.sql.functions import col"
   ]
  },
  {
   "cell_type": "code",
   "execution_count": 5,
   "metadata": {},
   "outputs": [
    {
     "name": "stdout",
     "output_type": "stream",
     "text": [
      "+--------+------+-----+---+----+\n",
      "|group_id|row_id|   f1| f2|  f3|\n",
      "+--------+------+-----+---+----+\n",
      "|      G1|    R1|  0.2| 60| 500|\n",
      "|      G1|    R2| 0.98| 70| 780|\n",
      "|      G1|    R3| 0.18| 78| 856|\n",
      "|      G2|    R4|0.999|160|1500|\n",
      "|      G2|    R5|  0.2| 60| 500|\n",
      "|      G3|    R6|  0.2| 60| 500|\n",
      "+--------+------+-----+---+----+\n",
      "\n"
     ]
    }
   ],
   "source": [
    "record = Row(\"group_id\", \"row_id\", \"f1\", \"f2\", \"f3\")\n",
    "\n",
    "sample_df = spark.createDataFrame(\n",
    "            [record(\"G1\", \"R1\", 0.2, 60, 500),\n",
    "             record(\"G1\", \"R2\", 0.98, 70, 780),\n",
    "             record(\"G1\", \"R3\", 0.18, 78, 856),\n",
    "             record(\"G2\", \"R4\", 0.999, 160, 1500),\n",
    "             record(\"G2\", \"R5\", 0.2, 60, 500),\n",
    "             record(\"G3\", \"R6\", 0.2, 60, 500)])\n",
    "\n",
    "sample_df.show()"
   ]
  },
  {
   "cell_type": "code",
   "execution_count": 6,
   "metadata": {},
   "outputs": [],
   "source": [
    "feature_cols = [\"f1\", \"f2\", \"f3\"]"
   ]
  },
  {
   "cell_type": "markdown",
   "metadata": {},
   "source": [
    "### Processing"
   ]
  },
  {
   "cell_type": "code",
   "execution_count": 7,
   "metadata": {},
   "outputs": [],
   "source": [
    "from pyspark.sql.window import Window\n",
    "from pyspark.sql.functions import max as spark_max, min as spark_min, col"
   ]
  },
  {
   "cell_type": "code",
   "execution_count": 8,
   "metadata": {},
   "outputs": [],
   "source": [
    "w = Window.partitionBy('group_id')"
   ]
  },
  {
   "cell_type": "code",
   "execution_count": 9,
   "metadata": {},
   "outputs": [],
   "source": [
    "for c in feature_cols:\n",
    "    sample_df = (sample_df.withColumn('maxi', spark_max(c).over(w))\n",
    "                 .withColumn(c, ((col(c)) / (col('maxi'))))\n",
    "                 .drop('maxi'))"
   ]
  },
  {
   "cell_type": "code",
   "execution_count": 10,
   "metadata": {},
   "outputs": [
    {
     "name": "stdout",
     "output_type": "stream",
     "text": [
      "+--------+------+-------------------+------------------+------------------+\n",
      "|group_id|row_id|                 f1|                f2|                f3|\n",
      "+--------+------+-------------------+------------------+------------------+\n",
      "|      G2|    R4|                1.0|               1.0|               1.0|\n",
      "|      G2|    R5| 0.2002002002002002|             0.375|0.3333333333333333|\n",
      "|      G3|    R6|                1.0|               1.0|               1.0|\n",
      "|      G1|    R1|0.20408163265306123|0.7692307692307693|0.5841121495327103|\n",
      "|      G1|    R2|                1.0|0.8974358974358975|0.9112149532710281|\n",
      "|      G1|    R3| 0.1836734693877551|               1.0|               1.0|\n",
      "+--------+------+-------------------+------------------+------------------+\n",
      "\n"
     ]
    }
   ],
   "source": [
    "sample_df.show()"
   ]
  },
  {
   "cell_type": "markdown",
   "metadata": {},
   "source": [
    "### Verification with VectorAssembler and MaxAbsScaler"
   ]
  },
  {
   "cell_type": "code",
   "execution_count": 11,
   "metadata": {},
   "outputs": [],
   "source": [
    "from pyspark.ml.feature import VectorAssembler"
   ]
  },
  {
   "cell_type": "code",
   "execution_count": 12,
   "metadata": {},
   "outputs": [],
   "source": [
    "assembler = VectorAssembler(\n",
    "    inputCols=[\"f1\", \"f2\", \"f3\"],\n",
    "    outputCol=\"features\")"
   ]
  },
  {
   "cell_type": "code",
   "execution_count": 13,
   "metadata": {},
   "outputs": [],
   "source": [
    "new_df=assembler.transform(sample_df)"
   ]
  },
  {
   "cell_type": "code",
   "execution_count": 14,
   "metadata": {},
   "outputs": [],
   "source": [
    "from pyspark.ml.feature import MaxAbsScaler"
   ]
  },
  {
   "cell_type": "code",
   "execution_count": 15,
   "metadata": {},
   "outputs": [],
   "source": [
    "scaler = MaxAbsScaler(inputCol=\"features\", outputCol=\"scaledFeatures\")"
   ]
  },
  {
   "cell_type": "code",
   "execution_count": 16,
   "metadata": {},
   "outputs": [],
   "source": [
    "g1_df = new_df.filter(col(\"group_id\")==\"G1\")\n",
    "g2_df = new_df.filter(col(\"group_id\")==\"G2\")\n",
    "g3_df = new_df.filter(col(\"group_id\")==\"G3\")"
   ]
  },
  {
   "cell_type": "code",
   "execution_count": 17,
   "metadata": {},
   "outputs": [
    {
     "data": {
      "text/plain": [
       "[Row(group_id='G1', row_id='R1', f1=0.20408163265306123, f2=0.7692307692307693, f3=0.5841121495327103, features=DenseVector([0.2041, 0.7692, 0.5841]), scaledFeatures=DenseVector([0.2041, 0.7692, 0.5841])),\n",
       " Row(group_id='G1', row_id='R2', f1=1.0, f2=0.8974358974358975, f3=0.9112149532710281, features=DenseVector([1.0, 0.8974, 0.9112]), scaledFeatures=DenseVector([1.0, 0.8974, 0.9112])),\n",
       " Row(group_id='G1', row_id='R3', f1=0.1836734693877551, f2=1.0, f3=1.0, features=DenseVector([0.1837, 1.0, 1.0]), scaledFeatures=DenseVector([0.1837, 1.0, 1.0]))]"
      ]
     },
     "execution_count": 17,
     "metadata": {},
     "output_type": "execute_result"
    }
   ],
   "source": [
    "scalerModel = scaler.fit(g1_df)\n",
    "scalerModel.transform(g1_df).collect()"
   ]
  },
  {
   "cell_type": "code",
   "execution_count": 18,
   "metadata": {},
   "outputs": [
    {
     "data": {
      "text/plain": [
       "[Row(group_id='G2', row_id='R4', f1=1.0, f2=1.0, f3=1.0, features=DenseVector([1.0, 1.0, 1.0]), scaledFeatures=DenseVector([1.0, 1.0, 1.0])),\n",
       " Row(group_id='G2', row_id='R5', f1=0.2002002002002002, f2=0.375, f3=0.3333333333333333, features=DenseVector([0.2002, 0.375, 0.3333]), scaledFeatures=DenseVector([0.2002, 0.375, 0.3333]))]"
      ]
     },
     "execution_count": 18,
     "metadata": {},
     "output_type": "execute_result"
    }
   ],
   "source": [
    "scalerModel = scaler.fit(g2_df)\n",
    "scalerModel.transform(g2_df).collect()"
   ]
  },
  {
   "cell_type": "code",
   "execution_count": 19,
   "metadata": {},
   "outputs": [
    {
     "data": {
      "text/plain": [
       "[Row(group_id='G3', row_id='R6', f1=1.0, f2=1.0, f3=1.0, features=DenseVector([1.0, 1.0, 1.0]), scaledFeatures=DenseVector([1.0, 1.0, 1.0]))]"
      ]
     },
     "execution_count": 19,
     "metadata": {},
     "output_type": "execute_result"
    }
   ],
   "source": [
    "scalerModel = scaler.fit(g3_df)\n",
    "scalerModel.transform(g3_df).collect()"
   ]
  },
  {
   "cell_type": "code",
   "execution_count": null,
   "metadata": {},
   "outputs": [],
   "source": []
  }
 ],
 "metadata": {
  "kernelspec": {
   "display_name": "Python 3",
   "language": "python",
   "name": "python3"
  },
  "language_info": {
   "codemirror_mode": {
    "name": "ipython",
    "version": 3
   },
   "file_extension": ".py",
   "mimetype": "text/x-python",
   "name": "python",
   "nbconvert_exporter": "python",
   "pygments_lexer": "ipython3",
   "version": "3.7.3"
  }
 },
 "nbformat": 4,
 "nbformat_minor": 2
}

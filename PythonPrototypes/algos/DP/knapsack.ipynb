{
 "cells": [
  {
   "cell_type": "code",
   "execution_count": 1,
   "metadata": {},
   "outputs": [],
   "source": [
    "wt = [1,3,4,5]\n",
    "val = [1,4,5,7]\n",
    "W = 7\n",
    "n = len(wt)"
   ]
  },
  {
   "cell_type": "code",
   "execution_count": 2,
   "metadata": {},
   "outputs": [
    {
     "name": "stdout",
     "output_type": "stream",
     "text": [
      "9\n"
     ]
    }
   ],
   "source": [
    "# Recursive calls\n",
    "def ks(wt, val, W, n):\n",
    "    if n==0 or W==0:\n",
    "        return 0\n",
    "    elif wt[n-1] <= W:\n",
    "        return max(val[n-1]+ks(wt, val, W-wt[n-1], n-1), ks(wt, val, W, n-1))\n",
    "    else:\n",
    "        return ks(wt, val, W, n-1)\n",
    "print(ks(wt, val, W, n))"
   ]
  },
  {
   "cell_type": "code",
   "execution_count": 12,
   "metadata": {},
   "outputs": [
    {
     "name": "stdout",
     "output_type": "stream",
     "text": [
      "9\n",
      "[[-1, -1, -1, -1, -1, -1, -1, -1], [-1, -1, 1, 1, 1, -1, -1, 1], [-1, -1, 1, 4, -1, -1, -1, 5], [-1, -1, 1, -1, -1, -1, -1, 9], [-1, -1, -1, -1, -1, -1, -1, 9]]\n"
     ]
    }
   ],
   "source": [
    "# Memoization\n",
    "\n",
    "dp = [[-1 for i in range(W+1)] for j in range(n+1)]\n",
    "def ks(wt, val, W, n):\n",
    "    if n==0 or W==0:\n",
    "        return 0\n",
    "    if dp[n][W]!=-1:\n",
    "        return dp[n][W]\n",
    "    \n",
    "    elif wt[n-1] <= W:\n",
    "        dp[n][W] =  max(val[n-1] + ks(wt, val, W-wt[n-1], n-1), ks(wt, val, W, n-1))\n",
    "        return dp[n][W]\n",
    "    else:\n",
    "        dp[n][W] = ks(wt, val, W, n-1)\n",
    "        return dp[n][W]\n",
    "    \n",
    "print(ks(wt, val, W, n))\n",
    "print(dp)"
   ]
  },
  {
   "cell_type": "code",
   "execution_count": 18,
   "metadata": {},
   "outputs": [
    {
     "name": "stdout",
     "output_type": "stream",
     "text": [
      "9\n"
     ]
    }
   ],
   "source": [
    "# Top Down approach\n",
    "dp = [[-1 for i in range(W+1)] for j in range(n+1)]\n",
    "for i in range(n+1):\n",
    "    for j in range(W+1):\n",
    "        if i==0 or j==0:\n",
    "            dp[i][j]=0\n",
    "\n",
    "for i in range(1,n+1):\n",
    "    for j in range(1, W+1):\n",
    "        if wt[i-1] <= j:\n",
    "            dp[i][j] = max(val[i-1]+dp[i-1][j-wt[i-1]], dp[i-1][j])\n",
    "        else:\n",
    "            dp[i][j] = dp[i-1][j]\n",
    "print(dp[n][W])"
   ]
  }
 ],
 "metadata": {
  "kernelspec": {
   "display_name": "Python 3",
   "language": "python",
   "name": "python3"
  },
  "language_info": {
   "codemirror_mode": {
    "name": "ipython",
    "version": 3
   },
   "file_extension": ".py",
   "mimetype": "text/x-python",
   "name": "python",
   "nbconvert_exporter": "python",
   "pygments_lexer": "ipython3",
   "version": "3.7.3"
  }
 },
 "nbformat": 4,
 "nbformat_minor": 4
}

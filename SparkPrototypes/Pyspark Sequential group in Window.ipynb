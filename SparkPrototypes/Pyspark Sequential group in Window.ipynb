{
 "cells": [
  {
   "cell_type": "markdown",
   "metadata": {},
   "source": [
    "### Spark related"
   ]
  },
  {
   "cell_type": "code",
   "execution_count": 4,
   "metadata": {},
   "outputs": [],
   "source": [
    "import findspark\n",
    "findspark.init(\"/Users/sharmilisrinivasan/spark-2.4.3-bin-hadoop2.7/\")"
   ]
  },
  {
   "cell_type": "code",
   "execution_count": 5,
   "metadata": {},
   "outputs": [],
   "source": [
    "from pyspark import SparkConf\n",
    "from pyspark.sql import SparkSession"
   ]
  },
  {
   "cell_type": "code",
   "execution_count": null,
   "metadata": {},
   "outputs": [],
   "source": [
    "spark = SparkSession \\\n",
    "    .builder \\\n",
    "    .master(\"spark://ip:7077\") \\\n",
    "    .appName(\"Exp\") \\\n",
    "    .getOrCreate()"
   ]
  },
  {
   "cell_type": "markdown",
   "metadata": {},
   "source": [
    "### Data"
   ]
  },
  {
   "cell_type": "code",
   "execution_count": 4,
   "metadata": {},
   "outputs": [],
   "source": [
    "from pyspark.sql import Row\n",
    "from pyspark.sql.functions import col"
   ]
  },
  {
   "cell_type": "code",
   "execution_count": 5,
   "metadata": {},
   "outputs": [
    {
     "name": "stdout",
     "output_type": "stream",
     "text": [
      "+-------------------+----+------+--------+\n",
      "|         time_stamp|imsi|enodeB|event_id|\n",
      "+-------------------+----+------+--------+\n",
      "|2017-09-09 12:00:00| I01|   E01|  Event1|\n",
      "|2017-09-09 12:00:03| I01|   E02|  Event4|\n",
      "|2017-09-09 12:00:06| I01|   E02|  Event5|\n",
      "|2017-09-09 12:00:09| I01|   E03|  Event6|\n",
      "|2017-09-09 12:00:12| I01|   E02|  Event7|\n",
      "|2017-09-09 12:00:15| I01|   E02|  Event8|\n",
      "|2017-09-09 12:30:00| I01|   E01|  Event2|\n",
      "|2017-09-09 12:30:02| I01|   E01|  Event3|\n",
      "|2017-09-09 12:30:04| I01|   E03| Event12|\n",
      "|2017-09-09 12:30:08| I01|   E03| Event13|\n",
      "|2017-09-09 12:30:10| I01|   E04| Event14|\n",
      "|2017-09-09 12:30:12| I01|   E04| Event15|\n",
      "|2017-09-09 12:30:20| I01|   E05| Event16|\n",
      "+-------------------+----+------+--------+\n",
      "\n"
     ]
    }
   ],
   "source": [
    "record = Row(\"time_stamp\", \"imsi\", \"enodeB\", \"event_id\")\n",
    "\n",
    "sample_df = spark.createDataFrame(\n",
    "            [record(\"2017-09-09 12:00:00\", \"I01\", \"E01\", \"Event1\"),\n",
    "             record(\"2017-09-09 12:00:03\", \"I01\", \"E02\", \"Event4\"),\n",
    "             record(\"2017-09-09 12:00:06\", \"I01\", \"E02\", \"Event5\"),\n",
    "             record(\"2017-09-09 12:00:09\", \"I01\", \"E03\", \"Event6\"),\n",
    "             record(\"2017-09-09 12:00:12\", \"I01\", \"E02\", \"Event7\"),\n",
    "             record(\"2017-09-09 12:00:15\", \"I01\", \"E02\", \"Event8\"),\n",
    "             record(\"2017-09-09 12:30:00\", \"I01\", \"E01\", \"Event2\"),\n",
    "             record(\"2017-09-09 12:30:02\", \"I01\", \"E01\", \"Event3\"),\n",
    "             record(\"2017-09-09 12:30:04\", \"I01\", \"E03\", \"Event12\"),\n",
    "             record(\"2017-09-09 12:30:08\", \"I01\", \"E03\", \"Event13\"),\n",
    "             record(\"2017-09-09 12:30:10\", \"I01\", \"E04\", \"Event14\"),\n",
    "             record(\"2017-09-09 12:30:12\", \"I01\", \"E04\", \"Event15\"),\n",
    "             record(\"2017-09-09 12:30:20\", \"I01\", \"E05\", \"Event16\")])\n",
    "\n",
    "sample_df.show()"
   ]
  },
  {
   "cell_type": "markdown",
   "metadata": {},
   "source": [
    "### Processing"
   ]
  },
  {
   "cell_type": "code",
   "execution_count": 6,
   "metadata": {},
   "outputs": [],
   "source": [
    "from pyspark.sql.window import Window\n",
    "from pyspark.sql.functions import col, collect_list, count as spark_cnt, lag, sum as spark_sum"
   ]
  },
  {
   "cell_type": "code",
   "execution_count": 7,
   "metadata": {},
   "outputs": [],
   "source": [
    "window = Window.partitionBy(\"imsi\").orderBy(\"time_stamp\")"
   ]
  },
  {
   "cell_type": "code",
   "execution_count": 8,
   "metadata": {},
   "outputs": [],
   "source": [
    "segmented_df = sample_df.\\\n",
    "withColumn(\"previ_enodeb\", lag(\"enodeb\").over(window)).\\\n",
    "withColumn(\"enodeb_change\", (col(\"previ_enodeb\" )!= col(\"enodeb\")).cast(\"int\")).\\\n",
    "fillna(0, subset=[\"enodeb_change\"]).\\\n",
    "withColumn(\"group\", spark_sum(col(\"enodeb_change\")).over(window.rangeBetween(Window.unboundedPreceding, 0)))"
   ]
  },
  {
   "cell_type": "code",
   "execution_count": 9,
   "metadata": {},
   "outputs": [
    {
     "name": "stdout",
     "output_type": "stream",
     "text": [
      "+-------------------+----+------+--------+------------+-------------+-----+\n",
      "|         time_stamp|imsi|enodeB|event_id|previ_enodeb|enodeb_change|group|\n",
      "+-------------------+----+------+--------+------------+-------------+-----+\n",
      "|2017-09-09 12:00:00| I01|   E01|  Event1|        null|            0|    0|\n",
      "|2017-09-09 12:00:03| I01|   E02|  Event4|         E01|            1|    1|\n",
      "|2017-09-09 12:00:06| I01|   E02|  Event5|         E02|            0|    1|\n",
      "|2017-09-09 12:00:09| I01|   E03|  Event6|         E02|            1|    2|\n",
      "|2017-09-09 12:00:12| I01|   E02|  Event7|         E03|            1|    3|\n",
      "|2017-09-09 12:00:15| I01|   E02|  Event8|         E02|            0|    3|\n",
      "|2017-09-09 12:30:00| I01|   E01|  Event2|         E02|            1|    4|\n",
      "|2017-09-09 12:30:02| I01|   E01|  Event3|         E01|            0|    4|\n",
      "|2017-09-09 12:30:04| I01|   E03| Event12|         E01|            1|    5|\n",
      "|2017-09-09 12:30:08| I01|   E03| Event13|         E03|            0|    5|\n",
      "|2017-09-09 12:30:10| I01|   E04| Event14|         E03|            1|    6|\n",
      "|2017-09-09 12:30:12| I01|   E04| Event15|         E04|            0|    6|\n",
      "|2017-09-09 12:30:20| I01|   E05| Event16|         E04|            1|    7|\n",
      "+-------------------+----+------+--------+------------+-------------+-----+\n",
      "\n"
     ]
    }
   ],
   "source": [
    "segmented_df.show()"
   ]
  },
  {
   "cell_type": "code",
   "execution_count": 10,
   "metadata": {},
   "outputs": [
    {
     "name": "stdout",
     "output_type": "stream",
     "text": [
      "+----+------+----------------------+---------------+\n",
      "|imsi|enodeB|collect_list(event_id)|count(event_id)|\n",
      "+----+------+----------------------+---------------+\n",
      "| I01|   E01|              [Event1]|              1|\n",
      "| I01|   E02|      [Event4, Event5]|              2|\n",
      "| I01|   E03|              [Event6]|              1|\n",
      "| I01|   E02|      [Event7, Event8]|              2|\n",
      "| I01|   E01|      [Event2, Event3]|              2|\n",
      "| I01|   E03|    [Event12, Event13]|              2|\n",
      "| I01|   E04|    [Event14, Event15]|              2|\n",
      "| I01|   E05|             [Event16]|              1|\n",
      "+----+------+----------------------+---------------+\n",
      "\n"
     ]
    }
   ],
   "source": [
    "segmented_df.\\\n",
    "groupBy([\"imsi\",\"enodeB\",\"group\"]).\\\n",
    "agg(collect_list(\"event_id\"), spark_cnt(\"event_id\")).\\\n",
    "drop(\"group\").\\\n",
    "show()"
   ]
  },
  {
   "cell_type": "code",
   "execution_count": null,
   "metadata": {},
   "outputs": [],
   "source": []
  }
 ],
 "metadata": {
  "kernelspec": {
   "display_name": "Python 3",
   "language": "python",
   "name": "python3"
  },
  "language_info": {
   "codemirror_mode": {
    "name": "ipython",
    "version": 3
   },
   "file_extension": ".py",
   "mimetype": "text/x-python",
   "name": "python",
   "nbconvert_exporter": "python",
   "pygments_lexer": "ipython3",
   "version": "3.7.3"
  }
 },
 "nbformat": 4,
 "nbformat_minor": 2
}
